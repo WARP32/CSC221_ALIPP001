{
  "nbformat": 4,
  "nbformat_minor": 0,
  "metadata": {
    "colab": {
      "provenance": [],
      "authorship_tag": "ABX9TyNFPaYeYjnhiv00aJ5VchHH",
      "include_colab_link": true
    },
    "kernelspec": {
      "name": "python3",
      "display_name": "Python 3"
    },
    "language_info": {
      "name": "python"
    }
  },
  "cells": [
    {
      "cell_type": "markdown",
      "metadata": {
        "id": "view-in-github",
        "colab_type": "text"
      },
      "source": [
        "<a href=\"https://colab.research.google.com/github/WARP32/CSC221_ALIPP001/blob/main/Assignment9_10.ipynb\" target=\"_parent\"><img src=\"https://colab.research.google.com/assets/colab-badge.svg\" alt=\"Open In Colab\"/></a>"
      ]
    },
    {
      "cell_type": "markdown",
      "source": [
        "Takes text as an input and tells a short story using the name provided"
      ],
      "metadata": {
        "id": "G2QcaZjkt8_4"
      }
    },
    {
      "cell_type": "code",
      "execution_count": null,
      "metadata": {
        "id": "5EW4dV0lrBLf"
      },
      "outputs": [],
      "source": [
        "def func1():\n",
        "  text = input(\"What is your name?\\n\")\n",
        "  print(f\"There was once a person named {text}.\\nThey were grading assignments and were having a great time looking through their students creative uses of code.\\nMaybe it was just a dream or maybe it was a real thing that one could only hope to happen.\")\n"
      ]
    },
    {
      "cell_type": "code",
      "source": [
        "func1()\n",
        "func1()"
      ],
      "metadata": {
        "colab": {
          "base_uri": "https://localhost:8080/"
        },
        "id": "Ar_Rpg-huhCS",
        "outputId": "dfea5553-f9ca-4a7e-d45f-7dfede713253"
      },
      "execution_count": null,
      "outputs": [
        {
          "output_type": "stream",
          "name": "stdout",
          "text": [
            "What is your name?\n",
            "Andrew\n",
            "There was once a person named Andrew.\n",
            "They were grading assignments and were having a great time looking through their students creative uses of code.\n",
            "Maybe it was just a dream or maybe it was a real thing that one could only hope to happen.\n",
            "What is your name?\n",
            "oasjdoaisjd982j9*(@*EJ(@*e(*@\n",
            "There was once a person named oasjdoaisjd982j9*(@*EJ(@*e(*@.\n",
            "They were grading assignments and were having a great time looking through their students creative uses of code.\n",
            "Maybe it was just a dream or maybe it was a real thing that one could only hope to happen.\n"
          ]
        }
      ]
    },
    {
      "cell_type": "markdown",
      "source": [
        "Takes a variable number of arguments as an input"
      ],
      "metadata": {
        "id": "se1vu9qsJaM2"
      }
    },
    {
      "cell_type": "code",
      "source": [
        "def func2(a, b, c=892):\n",
        "  sum = a + b + c\n",
        "  print(f\"{sum} is the sum of {a}, {b}, {c}.\")"
      ],
      "metadata": {
        "id": "7zuRQOozGAmZ"
      },
      "execution_count": null,
      "outputs": []
    },
    {
      "cell_type": "code",
      "source": [
        "func2(81, 287, 28)\n",
        "func2(928, 82)"
      ],
      "metadata": {
        "colab": {
          "base_uri": "https://localhost:8080/"
        },
        "id": "iMV5RdCJJh80",
        "outputId": "0b9bcfee-3950-426b-c630-d653051c18b5"
      },
      "execution_count": null,
      "outputs": [
        {
          "output_type": "stream",
          "name": "stdout",
          "text": [
            "396 is the sum of 81, 287, 28.\n",
            "1902 is the sum of 928, 82, 892.\n"
          ]
        }
      ]
    },
    {
      "cell_type": "markdown",
      "source": [
        "Returns multiple items"
      ],
      "metadata": {
        "id": "NFuIqrjxJiK0"
      }
    },
    {
      "cell_type": "code",
      "source": [
        "def func3(a, b, c):\n",
        "  print(a, b, c)"
      ],
      "metadata": {
        "id": "HhsewonOJl_D"
      },
      "execution_count": null,
      "outputs": []
    },
    {
      "cell_type": "code",
      "source": [
        "func3(1984, \"Lead\", [1, 2, 3])\n",
        "func3(\"Animal\", 283, [\"cat\", \"dog\", \"frog\"])"
      ],
      "metadata": {
        "colab": {
          "base_uri": "https://localhost:8080/"
        },
        "id": "AoKeGk-5JmJW",
        "outputId": "70ece2b5-b31f-4f7f-bf1e-240efbef5b27"
      },
      "execution_count": null,
      "outputs": [
        {
          "output_type": "stream",
          "name": "stdout",
          "text": [
            "1984 Lead [1, 2, 3]\n",
            "Animal 283 ['cat', 'dog', 'frog']\n"
          ]
        }
      ]
    },
    {
      "cell_type": "markdown",
      "source": [
        "Uses sorting"
      ],
      "metadata": {
        "id": "lF9AFl8wJmVd"
      }
    },
    {
      "cell_type": "code",
      "source": [
        "def func4(a, b, c):\n",
        "  list = [a, b, c]\n",
        "  sort = sorted(list)\n",
        "  print(sort)"
      ],
      "metadata": {
        "id": "SVGc9ChyJpd-"
      },
      "execution_count": null,
      "outputs": []
    },
    {
      "cell_type": "code",
      "source": [
        "func4(21039029, 1231235, 9128371)\n",
        "func4(\"asuda\", \"poikdpqwk\", \"zjxiuahw\")"
      ],
      "metadata": {
        "colab": {
          "base_uri": "https://localhost:8080/"
        },
        "id": "mUcCN7ODJplx",
        "outputId": "2dc56014-cf79-46e3-ac92-b18817b007f2"
      },
      "execution_count": null,
      "outputs": [
        {
          "output_type": "stream",
          "name": "stdout",
          "text": [
            "[1231235, 9128371, 21039029]\n",
            "['asuda', 'poikdpqwk', 'zjxiuahw']\n"
          ]
        }
      ]
    },
    {
      "cell_type": "markdown",
      "source": [
        "Uses a dictionary"
      ],
      "metadata": {
        "id": "gLQLzPv8Jp5D"
      }
    },
    {
      "cell_type": "code",
      "source": [
        "def func5(name, age, city):\n",
        "  person = {\n",
        "    \"name\": name,\n",
        "    \"age\": age,\n",
        "    \"city\": city\n",
        "  }\n",
        "  print(person)"
      ],
      "metadata": {
        "id": "1gOKUXHzJsjJ"
      },
      "execution_count": null,
      "outputs": []
    },
    {
      "cell_type": "code",
      "source": [
        "func5(\"Andrew\", 21, \"Plattsburgh\")\n",
        "func5(\"Jason\", 20, \"Hamilton\")"
      ],
      "metadata": {
        "colab": {
          "base_uri": "https://localhost:8080/"
        },
        "id": "pwSRmLCYJsse",
        "outputId": "cb079ec2-47ab-480a-e496-8dcb96d2a4f7"
      },
      "execution_count": null,
      "outputs": [
        {
          "output_type": "stream",
          "name": "stdout",
          "text": [
            "{'name': 'Andrew', 'age': 21, 'city': 'Plattsburgh'}\n",
            "{'name': 'Jason', 'age': 20, 'city': 'Hamilton'}\n"
          ]
        }
      ]
    },
    {
      "cell_type": "markdown",
      "source": [
        "Solves a puzzle using guessing and checking"
      ],
      "metadata": {
        "id": "4knIYFtpJs8y"
      }
    },
    {
      "cell_type": "code",
      "source": [
        "def func6(number, epsilon=0.01):\n",
        "    guess = number / 2.0\n",
        "    while abs(guess**2 - number) > epsilon:\n",
        "        guess = (guess + number / guess) / 2.0\n",
        "    print(\"{:.2f}\".format(guess))"
      ],
      "metadata": {
        "id": "NzSFWf6UJxyl"
      },
      "execution_count": null,
      "outputs": []
    },
    {
      "cell_type": "code",
      "source": [
        "print(\"Approxomite square roots.\")\n",
        "func6(25)\n",
        "func6(100)\n",
        "func6(283129831928)"
      ],
      "metadata": {
        "colab": {
          "base_uri": "https://localhost:8080/"
        },
        "id": "SvKbC0PFJx5z",
        "outputId": "41e06670-b7e1-4945-bbe5-04ef13c4eca9"
      },
      "execution_count": null,
      "outputs": [
        {
          "output_type": "stream",
          "name": "stdout",
          "text": [
            "Approxomite square roots.\n",
            "5.00\n",
            "10.00\n",
            "532099.46\n"
          ]
        }
      ]
    },
    {
      "cell_type": "markdown",
      "source": [
        "Performs a tricky mathmatical computation"
      ],
      "metadata": {
        "id": "lK9TjFEMJyK1"
      }
    },
    {
      "cell_type": "code",
      "source": [
        "def func7(number):\n",
        "  sum1 = 0\n",
        "  for i in range(1, number):\n",
        "      if(number % i == 0):\n",
        "          sum1 = sum1 + i\n",
        "  if (sum1 == number):\n",
        "      print(f\"{number} is a Perfect number!\")\n",
        "  else:\n",
        "      print(f\"{number} is not a Perfect number!\")"
      ],
      "metadata": {
        "id": "aUHBT4s7J2Nx"
      },
      "execution_count": null,
      "outputs": []
    },
    {
      "cell_type": "code",
      "source": [
        "func7(6)\n",
        "func7(19283)\n",
        "func7(33550336)"
      ],
      "metadata": {
        "colab": {
          "base_uri": "https://localhost:8080/"
        },
        "id": "DxxxRUG-J2Tj",
        "outputId": "719ed070-ef44-44ff-b3d7-2f940f8d7a5b"
      },
      "execution_count": null,
      "outputs": [
        {
          "output_type": "stream",
          "name": "stdout",
          "text": [
            "6 is a Perfect number!\n",
            "19283 is not a Perfect number!\n",
            "33550336 is a Perfect number!\n"
          ]
        }
      ]
    },
    {
      "cell_type": "markdown",
      "source": [
        "Calculates average in a list"
      ],
      "metadata": {
        "id": "6QhbUOT8J2mF"
      }
    },
    {
      "cell_type": "code",
      "source": [
        "def func8(numbers):\n",
        "  if len(numbers) == 0:\n",
        "    return 0\n",
        "  print(sum(numbers) / len(numbers))"
      ],
      "metadata": {
        "id": "cACEAyNFJ7BP"
      },
      "execution_count": 1,
      "outputs": []
    },
    {
      "cell_type": "code",
      "source": [
        "numbers = [1, 3, 7, 3, 28, 123, 852, -18]\n",
        "func8(numbers)\n",
        "numbers = [56]\n",
        "func8(numbers)\n",
        "numbers = []\n",
        "func8(numbers)"
      ],
      "metadata": {
        "id": "j0yX_WUKJ2Ya",
        "colab": {
          "base_uri": "https://localhost:8080/"
        },
        "outputId": "2bdc3748-d768-415d-f3cd-e548ee061a59"
      },
      "execution_count": 7,
      "outputs": [
        {
          "output_type": "stream",
          "name": "stdout",
          "text": [
            "124.875\n",
            "56.0\n"
          ]
        },
        {
          "output_type": "execute_result",
          "data": {
            "text/plain": [
              "0"
            ]
          },
          "metadata": {},
          "execution_count": 7
        }
      ]
    },
    {
      "cell_type": "markdown",
      "source": [
        "Find the maximum number in a list"
      ],
      "metadata": {
        "id": "JeSgZhe4J7yW"
      }
    },
    {
      "cell_type": "code",
      "source": [
        "def func9(numbers):\n",
        "  if len(numbers) == 0:\n",
        "    return None\n",
        "  print(max(numbers))"
      ],
      "metadata": {
        "id": "0OGgsxoAJ8M3"
      },
      "execution_count": 13,
      "outputs": []
    },
    {
      "cell_type": "code",
      "source": [
        "numbers = [1, 54245, 445443, 937834, 2]\n",
        "func9(numbers)\n",
        "numbers = [-14534, -5768, -76753, -347]\n",
        "func9(numbers)\n",
        "numbers = [38]\n",
        "func9(numbers)"
      ],
      "metadata": {
        "id": "aNLm0ZEyJ8Ur",
        "colab": {
          "base_uri": "https://localhost:8080/"
        },
        "outputId": "b63551d0-ea78-4c49-f497-b6f589afb693"
      },
      "execution_count": 15,
      "outputs": [
        {
          "output_type": "stream",
          "name": "stdout",
          "text": [
            "937834\n",
            "-347\n",
            "38\n"
          ]
        }
      ]
    },
    {
      "cell_type": "markdown",
      "source": [
        "Counts how many times a certain item is listed in a list"
      ],
      "metadata": {
        "id": "vG2BtOrzJ8mI"
      }
    },
    {
      "cell_type": "code",
      "source": [
        "def func10(items):\n",
        "  occurrences = {}\n",
        "  for item in items:\n",
        "    occurrences[item] = occurrences.get(item, 0) + 1\n",
        "  print(occurrences)"
      ],
      "metadata": {
        "id": "EmN_GdAMJ8vu"
      },
      "execution_count": 18,
      "outputs": []
    },
    {
      "cell_type": "code",
      "source": [
        "items = [65394, 984352, -657441, 984352, 65394, 65394, -657441, 984352, 65394, 984352, -657441]\n",
        "func10(items)\n",
        "items = ['Terracotta pie', 'banana', 'banana', 'banana', 'banana', 'banana', 'banana', 'banana', 'banana', 'banana', 'banana', 'banana', 'banana', 'banana', 'banana', 'banana', 'banana', 'banana', 'banana', 'banana', 'banana', 'banana', 'banana', 'banana', 'banana', 'banana', 'banana', 'banana', 'banana', 'banana', 'banana', 'banana', 'banana', 'banana', 'banana', 'banana', 'banana', 'banana', 'banana', 'banana', 'banana', 'banana', 'banana', 'banana', 'banana', 'banana', 'banana', 'banana', 'banana', 'banana', 'banana', 'banana', 'banana', 'banana', 'banana', 'banana', 'banana', 'Terracotta pie', 'Terracotta pie', 'Terracotta pie', 'Terracotta pie', 'Terracotta pie', 'Terracotta pie', 'Terracotta pie', 'Terracotta pie', 'Terracotta pie', 'Terracotta pie', 'Terracotta pie', 'Terracotta pie', 'Terracotta pie', 'Terracotta pie', 'Terracotta pie', 'Terracotta pie', 'Terracotta pie', 'Terracotta pie', 'Terracotta pie', 'Terracotta pie']\n",
        "func10(items)\n",
        "items = [1, 'Terracotta pie', 'Terracotta pie', 984352, 'banana', 984352, 'Terracotta pie']\n",
        "func10(items)"
      ],
      "metadata": {
        "id": "zHXIT0Z3J80I",
        "colab": {
          "base_uri": "https://localhost:8080/"
        },
        "outputId": "06f4e9c7-474e-47c9-a5fe-dc5713fb9b62"
      },
      "execution_count": 20,
      "outputs": [
        {
          "output_type": "stream",
          "name": "stdout",
          "text": [
            "{65394: 4, 984352: 4, -657441: 3}\n",
            "{'Terracotta pie': 21, 'banana': 56}\n",
            "{1: 1, 'Terracotta pie': 3, 984352: 2, 'banana': 1}\n"
          ]
        }
      ]
    }
  ]
}