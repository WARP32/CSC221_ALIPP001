{
  "nbformat": 4,
  "nbformat_minor": 0,
  "metadata": {
    "colab": {
      "provenance": [],
      "authorship_tag": "ABX9TyNW2XLNkpil3DctSTZBHRiW",
      "include_colab_link": true
    },
    "kernelspec": {
      "name": "python3",
      "display_name": "Python 3"
    },
    "language_info": {
      "name": "python"
    }
  },
  "cells": [
    {
      "cell_type": "markdown",
      "metadata": {
        "id": "view-in-github",
        "colab_type": "text"
      },
      "source": [
        "<a href=\"https://colab.research.google.com/github/WARP32/CSC221_ALIPP001/blob/main/Assignment3.ipynb\" target=\"_parent\"><img src=\"https://colab.research.google.com/assets/colab-badge.svg\" alt=\"Open In Colab\"/></a>"
      ]
    },
    {
      "cell_type": "code",
      "execution_count": 1,
      "metadata": {
        "colab": {
          "base_uri": "https://localhost:8080/"
        },
        "id": "qFcZuO0rP1Jr",
        "outputId": "3bbb5103-0575-427d-dbf0-27870ec8a839"
      },
      "outputs": [
        {
          "output_type": "stream",
          "name": "stdout",
          "text": [
            "February 12th is national football hangover day, how fun!\n"
          ]
        }
      ],
      "source": [
        "# Variables\n",
        "message = \"February 12th is national football hangover day, how fun!\"\n",
        "print(message)"
      ]
    },
    {
      "cell_type": "code",
      "source": [
        "# Variables\n",
        "message = \"February 12th is national football hangover day, how fun!\"\n",
        "print(message)\n",
        "\n",
        "message = \"February 12th is national plum pudding day, how fun!\"\n",
        "print(message)"
      ],
      "metadata": {
        "colab": {
          "base_uri": "https://localhost:8080/"
        },
        "id": "A1049EuWHZWL",
        "outputId": "4ccfa38a-6419-4717-bb24-02fcd5aea38d"
      },
      "execution_count": 3,
      "outputs": [
        {
          "output_type": "stream",
          "name": "stdout",
          "text": [
            "February 12th is national football hangover day, how fun!\n",
            "February 12th is national plum pudding day, how fun!\n"
          ]
        }
      ]
    },
    {
      "cell_type": "code",
      "source": [
        "# 2.1 and 2.2\n",
        "msg = \"There are three kinds of mammals that lay eggs.\"\n",
        "print(msg)\n",
        "msg = \"They are the Platypus and two species of Echidnas.\"\n",
        "print(msg)"
      ],
      "metadata": {
        "colab": {
          "base_uri": "https://localhost:8080/"
        },
        "id": "0-JPzMsyHtgK",
        "outputId": "4795181b-2166-4466-d74a-938bf8c050f1"
      },
      "execution_count": 8,
      "outputs": [
        {
          "output_type": "stream",
          "name": "stdout",
          "text": [
            "There are three kinds of mammals that lay eggs.\n",
            "They are the Platypus and two species of Echidnas.\n"
          ]
        }
      ]
    },
    {
      "cell_type": "code",
      "source": [
        "# Strings\n",
        "name = \"Peter I of Cyprus\"\n",
        "print(name.title())\n",
        "print(name.upper())\n",
        "print(name.lower())"
      ],
      "metadata": {
        "colab": {
          "base_uri": "https://localhost:8080/"
        },
        "id": "43Aoq6T1JABr",
        "outputId": "c0cb5d9c-fa65-4d15-95bc-831fda48e8c9"
      },
      "execution_count": 9,
      "outputs": [
        {
          "output_type": "stream",
          "name": "stdout",
          "text": [
            "Peter I Of Cyprus\n",
            "PETER I OF CYPRUS\n",
            "peter i of cyprus\n"
          ]
        }
      ]
    },
    {
      "cell_type": "code",
      "source": [
        "# Strings\n",
        "fname = \"Catherine\"\n",
        "lname = \"Cornaro\"\n",
        "full_name = f\"{fname} {lname}\"\n",
        "print(full_name)\n",
        "print(f\"Hello, {full_name.title()}!\")\n",
        "message = f\"Hello, {full_name.title()}!\"\n",
        "print(message)"
      ],
      "metadata": {
        "colab": {
          "base_uri": "https://localhost:8080/"
        },
        "id": "tHOJpAPqJJCE",
        "outputId": "68d84138-314c-4626-d353-877bbb64244e"
      },
      "execution_count": 11,
      "outputs": [
        {
          "output_type": "stream",
          "name": "stdout",
          "text": [
            "Catherine Cornaro\n",
            "Hello, Catherine Cornaro!\n",
            "Hello, Catherine Cornaro!\n"
          ]
        }
      ]
    },
    {
      "cell_type": "code",
      "source": [
        "# Striping Whitespace\n",
        "fav_lang = \" python \"\n",
        "print(fav_lang.rstrip())\n",
        "print(fav_lang.lstrip())\n",
        "print(fav_lang.strip())"
      ],
      "metadata": {
        "colab": {
          "base_uri": "https://localhost:8080/"
        },
        "id": "-tM4s4R0LbO5",
        "outputId": "92e7d086-7702-4154-eaeb-283b372ce874"
      },
      "execution_count": 14,
      "outputs": [
        {
          "output_type": "stream",
          "name": "stdout",
          "text": [
            " python\n",
            "python \n",
            "python\n"
          ]
        }
      ]
    },
    {
      "cell_type": "code",
      "source": [
        "# Removing Prefixes\n",
        "nostarch_url = 'https://nostarch.com'\n",
        "nostarch_url.removeprefix('https://')\n",
        "print(nostarch_url)"
      ],
      "metadata": {
        "colab": {
          "base_uri": "https://localhost:8080/"
        },
        "id": "4cVm-sUxMtAW",
        "outputId": "cf9f129c-0543-4f7f-ef15-f1fc8ebf3fb5"
      },
      "execution_count": 15,
      "outputs": [
        {
          "output_type": "stream",
          "name": "stdout",
          "text": [
            "https://nostarch.com\n"
          ]
        }
      ]
    },
    {
      "cell_type": "code",
      "source": [
        "# 2.3 - 2.8\n",
        "name = \"Rodoljub Roki Vulović, You write some good music.\"\n",
        "print(name)\n",
        "print(name.upper())\n",
        "print(name.lower())\n",
        "print(name.title())\n",
        "print('Andrew Jackson once said, \"There is no pleasure in having nothing to do; the fun is having lots to do and not doing it.\"')\n",
        "fperson = \"Andrew Jackson\"\n",
        "message = \"There is no pleasure in having nothing to do; the fun is having lots to do and not doing it.\"\n",
        "print(f'{fperson} once said, \"{message}\" and I believe that is a good message.')\n",
        "music_artist = \"\\tChris Christodoulou\\n\"\n",
        "print(music_artist)\n",
        "print(music_artist.rstrip())\n",
        "print(music_artist.lstrip())\n",
        "print(music_artist.strip())\n",
        "filename = \"python_notes.txt\"\n",
        "print(filename.removesuffix(\".txt\"))"
      ],
      "metadata": {
        "colab": {
          "base_uri": "https://localhost:8080/"
        },
        "id": "F4aqSJ2JNjWE",
        "outputId": "5a9de100-4496-4b27-dc58-14a0697cc34a"
      },
      "execution_count": 20,
      "outputs": [
        {
          "output_type": "stream",
          "name": "stdout",
          "text": [
            "Rodoljub Roki Vulović, You write some good music.\n",
            "RODOLJUB ROKI VULOVIĆ, YOU WRITE SOME GOOD MUSIC.\n",
            "rodoljub roki vulović, you write some good music.\n",
            "Rodoljub Roki Vulović, You Write Some Good Music.\n",
            "Andrew Jackson once said, \"There is no pleasure in having nothing to do; the fun is having lots to do and not doing it.\"\n",
            "Andrew Jackson once said, \"There is no pleasure in having nothing to do; the fun is having lots to do and not doing it.\" and I believe that is a good message.\n",
            "\tChris Christodoulou\n",
            "\n",
            "\tChris Christodoulou\n",
            "Chris Christodoulou\n",
            "\n",
            "Chris Christodoulou\n",
            "python_notes\n"
          ]
        }
      ]
    },
    {
      "cell_type": "code",
      "source": [
        "#numbers\n",
        "2 + 2\n",
        "3 - 2\n",
        "2 * 3\n",
        "3 / 2\n",
        "3 ** 2.0\n",
        "100_000\n"
      ],
      "metadata": {
        "colab": {
          "base_uri": "https://localhost:8080/"
        },
        "id": "Xk7LRcAQRMQB",
        "outputId": "8ac68d3c-fa05-4dd0-d0d6-a9b920fb59a3"
      },
      "execution_count": 23,
      "outputs": [
        {
          "output_type": "execute_result",
          "data": {
            "text/plain": [
              "100000"
            ]
          },
          "metadata": {},
          "execution_count": 23
        }
      ]
    },
    {
      "cell_type": "code",
      "source": [
        "# 2.9 and 2.10\n",
        "print(2 + 6)\n",
        "print(9 - 1)\n",
        "print(4 * 2)\n",
        "print(16 / 2)"
      ],
      "metadata": {
        "colab": {
          "base_uri": "https://localhost:8080/"
        },
        "id": "aXWgNkykSyRR",
        "outputId": "e06fa49b-c8d5-4b59-eb93-55421ee5c4c3"
      },
      "execution_count": 24,
      "outputs": [
        {
          "output_type": "stream",
          "name": "stdout",
          "text": [
            "8\n",
            "8\n",
            "8\n",
            "8.0\n"
          ]
        }
      ]
    },
    {
      "cell_type": "code",
      "source": [
        "# 2.11\n",
        "# This adds, subtracts, multiplies, and divides\n",
        "print(2 + 6)\n",
        "print(9 - 1)\n",
        "print(4 * 2)\n",
        "print(16 / 2)\n",
        "# This program gets a first name and last name and prints it as a full name\n",
        "fname = \"Catherine\"\n",
        "lname = \"Cornaro\"\n",
        "full_name = f\"{fname} {lname}\"\n",
        "print(full_name)\n",
        "print(f\"Hello, {full_name.title()}!\")\n",
        "message = f\"Hello, {full_name.title()}!\"\n",
        "print(message)"
      ],
      "metadata": {
        "colab": {
          "base_uri": "https://localhost:8080/"
        },
        "id": "9PyOAaxPT2dY",
        "outputId": "8d21092f-614b-4de9-d1a7-6b6e49fb75a3"
      },
      "execution_count": 25,
      "outputs": [
        {
          "output_type": "stream",
          "name": "stdout",
          "text": [
            "8\n",
            "8\n",
            "8\n",
            "8.0\n",
            "Catherine Cornaro\n",
            "Hello, Catherine Cornaro!\n",
            "Hello, Catherine Cornaro!\n"
          ]
        }
      ]
    },
    {
      "cell_type": "code",
      "source": [
        "import this"
      ],
      "metadata": {
        "colab": {
          "base_uri": "https://localhost:8080/"
        },
        "id": "_1_mnKgEV-b0",
        "outputId": "6b3ad711-4e28-4363-9458-4062f7269248"
      },
      "execution_count": 26,
      "outputs": [
        {
          "output_type": "stream",
          "name": "stdout",
          "text": [
            "The Zen of Python, by Tim Peters\n",
            "\n",
            "Beautiful is better than ugly.\n",
            "Explicit is better than implicit.\n",
            "Simple is better than complex.\n",
            "Complex is better than complicated.\n",
            "Flat is better than nested.\n",
            "Sparse is better than dense.\n",
            "Readability counts.\n",
            "Special cases aren't special enough to break the rules.\n",
            "Although practicality beats purity.\n",
            "Errors should never pass silently.\n",
            "Unless explicitly silenced.\n",
            "In the face of ambiguity, refuse the temptation to guess.\n",
            "There should be one-- and preferably only one --obvious way to do it.\n",
            "Although that way may not be obvious at first unless you're Dutch.\n",
            "Now is better than never.\n",
            "Although never is often better than *right* now.\n",
            "If the implementation is hard to explain, it's a bad idea.\n",
            "If the implementation is easy to explain, it may be a good idea.\n",
            "Namespaces are one honking great idea -- let's do more of those!\n"
          ]
        }
      ]
    },
    {
      "cell_type": "code",
      "source": [],
      "metadata": {
        "id": "cbmJBUmJWe-s"
      },
      "execution_count": null,
      "outputs": []
    }
  ]
}