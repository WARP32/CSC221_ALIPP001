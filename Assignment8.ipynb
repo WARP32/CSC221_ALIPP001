{
  "nbformat": 4,
  "nbformat_minor": 0,
  "metadata": {
    "colab": {
      "provenance": [],
      "authorship_tag": "ABX9TyPrl8QahHUh0FlLpLM7pN7T",
      "include_colab_link": true
    },
    "kernelspec": {
      "name": "python3",
      "display_name": "Python 3"
    },
    "language_info": {
      "name": "python"
    }
  },
  "cells": [
    {
      "cell_type": "markdown",
      "metadata": {
        "id": "view-in-github",
        "colab_type": "text"
      },
      "source": [
        "<a href=\"https://colab.research.google.com/github/WARP32/CSC221_ALIPP001/blob/main/Assignment8.ipynb\" target=\"_parent\"><img src=\"https://colab.research.google.com/assets/colab-badge.svg\" alt=\"Open In Colab\"/></a>"
      ]
    },
    {
      "cell_type": "code",
      "source": [
        "# 8.1\n",
        "def display_message():\n",
        "  print(\"So far I have learned the very basics about functions and how to call them.\")\n",
        "display_message()"
      ],
      "metadata": {
        "colab": {
          "base_uri": "https://localhost:8080/"
        },
        "id": "zywBq9vMGzjB",
        "outputId": "f9f798b2-ddc3-4bdf-bc14-df1195e3e809"
      },
      "execution_count": null,
      "outputs": [
        {
          "output_type": "stream",
          "name": "stdout",
          "text": [
            "So far I have learned the very basics about functions and how to call them.\n"
          ]
        }
      ]
    },
    {
      "cell_type": "code",
      "execution_count": null,
      "metadata": {
        "id": "AfRHPzR_YEdg",
        "colab": {
          "base_uri": "https://localhost:8080/"
        },
        "outputId": "c8ae7e2d-d024-4f44-d2b5-27f96d24eafb"
      },
      "outputs": [
        {
          "output_type": "stream",
          "name": "stdout",
          "text": [
            "What is your favorite book?\n",
            "Dune\n",
            "One of my favorite books is Dune.\n",
            "One of my favorite books is Foundation.\n"
          ]
        }
      ],
      "source": [
        "# 8.2\n",
        "def favorite_book(title):\n",
        "  print(f\"One of my favorite books is {title}.\")\n",
        "title = input(\"What is your favorite book?\\n\")\n",
        "favorite_book(title)\n",
        "favorite_book(\"Foundation\")"
      ]
    },
    {
      "cell_type": "code",
      "source": [
        "# 8.3\n",
        "def make_shirt(size, text):\n",
        "  print(f\"You want a {size} shirt with the text {text} written on it?\")\n",
        "make_shirt(\"XXXXXXXXL\", \"THAT'S A BIG SHIRT!\")\n",
        "make_shirt(size=\"Large\", text=\"This is a normal shirt with nothing unusual about it.\")"
      ],
      "metadata": {
        "id": "OiPJVSV9YO11",
        "colab": {
          "base_uri": "https://localhost:8080/"
        },
        "outputId": "5a90ca30-a6c8-48a7-bc35-c9cbb378496a"
      },
      "execution_count": null,
      "outputs": [
        {
          "output_type": "stream",
          "name": "stdout",
          "text": [
            "You want a XXXXXXXXL shirt with the text THAT'S A BIG SHIRT! written on it?\n",
            "You want a Large shirt with the text This is a normal shirt with nothing unusual about it. written on it?\n"
          ]
        }
      ]
    },
    {
      "cell_type": "code",
      "source": [
        "# 8.4\n",
        "def make_shirt(size, text=\"I love python\"):\n",
        "  print(f\"You want a {size} shirt with the text {text} written on it?\")\n",
        "make_shirt(\"medium\")\n",
        "make_shirt(\"large\")\n",
        "make_shirt(\"small\", )"
      ],
      "metadata": {
        "id": "noh7shtAYQji"
      },
      "execution_count": null,
      "outputs": []
    },
    {
      "cell_type": "markdown",
      "source": [
        "*   func8 a b c = 42\n",
        "*   With c having 42 as a term it becomes a default value\n",
        "*   sum = a + b + c\n",
        "*   product = a * b * c\n",
        "*   list = [a, b, c]\n",
        "*   sort(list)\n",
        "*   Test cases\n",
        "\n",
        "\n",
        "\n",
        "\n",
        "\n"
      ],
      "metadata": {
        "id": "CNCL-aBK0Sty"
      }
    },
    {
      "cell_type": "code",
      "source": [
        "def func8(a, b, c=42):\n",
        "  sum = a + b + c\n",
        "  print(f\"The sum is {sum}.\")\n",
        "  product = a * b * c\n",
        "  print(f\"The product is {product}.\")\n",
        "  lst = [a, b, c]\n",
        "  slst = sorted(lst)\n",
        "  print(f\"The sorted list of the numbers provided is {slst}\")\n",
        "func8(8, 5, 3)\n",
        "print(\"\\n\")\n",
        "func8(8, -5, 3)\n",
        "print(\"\\n\")\n",
        "func8(10, 15)\n",
        "print(\"\\n\")\n",
        "func8(-9, 15)"
      ],
      "metadata": {
        "colab": {
          "base_uri": "https://localhost:8080/"
        },
        "id": "Vecm-jPy0No3",
        "outputId": "36060689-d761-40af-af0f-cf4a5950216b"
      },
      "execution_count": null,
      "outputs": [
        {
          "output_type": "stream",
          "name": "stdout",
          "text": [
            "The sum is 16.\n",
            "The product is 120.\n",
            "The sorted list of the numbers provided is [3, 5, 8]\n",
            "\n",
            "\n",
            "The sum is 6.\n",
            "The product is -120.\n",
            "The sorted list of the numbers provided is [-5, 3, 8]\n",
            "\n",
            "\n",
            "The sum is 67.\n",
            "The product is 6300.\n",
            "The sorted list of the numbers provided is [10, 15, 42]\n",
            "\n",
            "\n",
            "The sum is 48.\n",
            "The product is -5670.\n",
            "The sorted list of the numbers provided is [-9, 15, 42]\n"
          ]
        }
      ]
    }
  ]
}