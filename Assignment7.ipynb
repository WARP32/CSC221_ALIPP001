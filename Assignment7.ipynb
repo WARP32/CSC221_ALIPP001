{
  "nbformat": 4,
  "nbformat_minor": 0,
  "metadata": {
    "colab": {
      "provenance": [],
      "authorship_tag": "ABX9TyOAEMBxLus97gwBAn3LnCoK",
      "include_colab_link": true
    },
    "kernelspec": {
      "name": "python3",
      "display_name": "Python 3"
    },
    "language_info": {
      "name": "python"
    }
  },
  "cells": [
    {
      "cell_type": "markdown",
      "metadata": {
        "id": "view-in-github",
        "colab_type": "text"
      },
      "source": [
        "<a href=\"https://colab.research.google.com/github/WARP32/CSC221_ALIPP001/blob/main/Assignment7.ipynb\" target=\"_parent\"><img src=\"https://colab.research.google.com/assets/colab-badge.svg\" alt=\"Open In Colab\"/></a>"
      ]
    },
    {
      "cell_type": "code",
      "execution_count": null,
      "metadata": {
        "colab": {
          "base_uri": "https://localhost:8080/"
        },
        "id": "iLMjPjTatTRC",
        "outputId": "f31c9a97-0dde-4262-f4ae-83c7297047a0"
      },
      "outputs": [
        {
          "output_type": "stream",
          "name": "stdout",
          "text": [
            "Teddy\n",
            "Morey\n",
            "20\n",
            "Saratoga Springs\n",
            "\n",
            "\n"
          ]
        }
      ],
      "source": [
        "# 6.1\n",
        "person = {\n",
        "    'first_name': 'Teddy',\n",
        "    'last_name': 'Morey',\n",
        "    'age': 20,\n",
        "    'city': 'Saratoga Springs',\n",
        "    }\n",
        "\n",
        "print(person['first_name'])\n",
        "print(person['last_name'])\n",
        "print(person['age'])\n",
        "print(person['city'])\n",
        "print(\"\\n\")\n"
      ]
    },
    {
      "cell_type": "code",
      "source": [
        "# 6.2\n",
        "favorite_numbers = {\n",
        "    'Eddie the Wizard': 9001,\n",
        "    'Edward': 45,\n",
        "    'Eddy': 16354,\n",
        "    'Edd': 19,\n",
        "    'Ed': 320782,\n",
        "    }\n",
        "\n",
        "num = favorite_numbers['Eddie the Wizard']\n",
        "print(f\"Eddie the Wizard's favorite number is {num}.\")\n",
        "num = favorite_numbers['Edward']\n",
        "print(f\"Edward's favorite number is {num}.\")\n",
        "num = favorite_numbers['Eddy']\n",
        "print(f\"Eddy's favorite number is {num}.\")\n",
        "num = favorite_numbers['Edd']\n",
        "print(f\"Edd's favorite number is {num}.\")\n",
        "num = favorite_numbers['Ed']\n",
        "print(f\"Ed's favorite number is {num}.\")"
      ],
      "metadata": {
        "colab": {
          "base_uri": "https://localhost:8080/"
        },
        "id": "r1eYCtGoth0m",
        "outputId": "1fe96bd5-1727-48a2-e47c-dfe86ea121bc"
      },
      "execution_count": null,
      "outputs": [
        {
          "output_type": "stream",
          "name": "stdout",
          "text": [
            "Eddie the Wizard's favorite number is 9001.\n",
            "Edward's favorite number is 45.\n",
            "Eddy's favorite number is 16354.\n",
            "Edd's favorite number is 19.\n",
            "Ed's favorite number is 320782.\n"
          ]
        }
      ]
    },
    {
      "cell_type": "code",
      "source": [
        "# 6.3\n",
        "glossary = {\n",
        "    'String': 'A series of characters.',\n",
        "    'Loop': 'Work through a collection of items, one at a time.',\n",
        "    'Comment': 'A note in a program that is ignored when the program is running.',\n",
        "    'List': 'A collection of items in a particular order.',\n",
        "    'Dictionary': \"A collection of key-value pairs.\",\n",
        "    }\n",
        "\n",
        "word = 'String'\n",
        "print(f\"\\n{word}: {glossary[word]}\")\n",
        "word = 'Loop'\n",
        "print(f\"\\n{word}: {glossary[word]}\")\n",
        "word = 'Comment'\n",
        "print(f\"\\n{word}: {glossary[word]}\")\n",
        "word = 'List'\n",
        "print(f\"\\n{word}: {glossary[word]}\")\n",
        "word = 'Dictionary'\n",
        "print(f\"\\n{word}: {glossary[word]}\")"
      ],
      "metadata": {
        "colab": {
          "base_uri": "https://localhost:8080/"
        },
        "id": "ZQxlxN4Vto_4",
        "outputId": "3791ee3b-9a23-441b-b3d4-a631337f43b1"
      },
      "execution_count": null,
      "outputs": [
        {
          "output_type": "stream",
          "name": "stdout",
          "text": [
            "\n",
            "String: A series of characters.\n",
            "\n",
            "Loop: Work through a collection of items, one at a time.\n",
            "\n",
            "Comment: A note in a program that is ignored when the program is running.\n",
            "\n",
            "List: A collection of items in a particular order.\n",
            "\n",
            "Dictionary: A collection of key-value pairs.\n"
          ]
        }
      ]
    },
    {
      "cell_type": "code",
      "source": [
        "# 6.4\n",
        "glossary = {\n",
        "    'string': 'A series of characters.',\n",
        "    'comment': 'A note in a program that is ignored when the program is running.',\n",
        "    'list': 'A collection of items in a particular order.',\n",
        "    'conditional test': 'A comparison between two values.',\n",
        "    'loop': 'Work through a collection of items, one at a time.',\n",
        "    'dictionary': \"A collection of key-value pairs.\",\n",
        "    'class': 'Code template for creating objects.',\n",
        "    'value': 'An item associated with a key in a dictionary.',\n",
        "    'float': 'A numerical value with a decimal component.',\n",
        "    'boolean expression': 'An expression that evaluates to True or False.',\n",
        "    }\n",
        "\n",
        "for word, definition in glossary.items():\n",
        "    print(f\"\\n{word.title()}: {definition}\")"
      ],
      "metadata": {
        "colab": {
          "base_uri": "https://localhost:8080/"
        },
        "id": "64nlNpRRt7K_",
        "outputId": "bfa81442-8e49-4162-88e7-bb8a5dc50b00"
      },
      "execution_count": null,
      "outputs": [
        {
          "output_type": "stream",
          "name": "stdout",
          "text": [
            "\n",
            "String: A series of characters.\n",
            "\n",
            "Comment: A note in a program that is ignored when the program is running.\n",
            "\n",
            "List: A collection of items in a particular order.\n",
            "\n",
            "Conditional Test: A comparison between two values.\n",
            "\n",
            "Loop: Work through a collection of items, one at a time.\n",
            "\n",
            "Dictionary: A collection of key-value pairs.\n",
            "\n",
            "Class: Code template for creating objects.\n",
            "\n",
            "Value: An item associated with a key in a dictionary.\n",
            "\n",
            "Float: A numerical value with a decimal component.\n",
            "\n",
            "Boolean Expression: An expression that evaluates to True or False.\n"
          ]
        }
      ]
    },
    {
      "cell_type": "code",
      "source": [
        "# 6.11\n",
        "cities = {\n",
        "    'zermatt': {\n",
        "        'country': 'switzerland',\n",
        "        'population': 5820,\n",
        "        'nearby mountain': 'matterhorn',\n",
        "        },\n",
        "    'moshi': {\n",
        "        'country': 'tanzania',\n",
        "        'population': 201150,\n",
        "        'nearby mountain': 'kilimanjaro',\n",
        "        },\n",
        "    'yuksom': {\n",
        "        'country': 'india',\n",
        "        'population': 4013,\n",
        "        'nearby mountain': 'kangchenjunga',\n",
        "        }\n",
        "    }\n",
        "\n",
        "for city, city_info in cities.items():\n",
        "    country = city_info['country'].title()\n",
        "    population = city_info['population']\n",
        "    mountains = city_info['nearby mountain'].title()\n",
        "\n",
        "    print(f\"\\n{city.title()} is in {country}.\")\n",
        "    print(f\"  It has a population of about {population} people.\")\n",
        "    print(f\"  The {mountains} mountain is nearby.\")"
      ],
      "metadata": {
        "colab": {
          "base_uri": "https://localhost:8080/"
        },
        "id": "-1lCV38PuCe9",
        "outputId": "ec5a579b-bfb8-44b4-897f-2036d69e1156"
      },
      "execution_count": null,
      "outputs": [
        {
          "output_type": "stream",
          "name": "stdout",
          "text": [
            "\n",
            "Zermatt is in Switzerland.\n",
            "  It has a population of about 5820 people.\n",
            "  The Matterhorn mountain is nearby.\n",
            "\n",
            "Moshi is in Tanzania.\n",
            "  It has a population of about 201150 people.\n",
            "  The Kilimanjaro mountain is nearby.\n",
            "\n",
            "Yuksom is in India.\n",
            "  It has a population of about 4013 people.\n",
            "  The Kangchenjunga mountain is nearby.\n"
          ]
        }
      ]
    },
    {
      "cell_type": "code",
      "source": [
        "%%writefile file\n",
        "kevin, 91\n",
        "ayush, 94\n",
        "bob, 97\n",
        "amy, 89\n",
        "ankita, 97\n",
        "ned, 79\n",
        "timmy, 82"
      ],
      "metadata": {
        "colab": {
          "base_uri": "https://localhost:8080/"
        },
        "id": "tiZ14fceuRKL",
        "outputId": "445c5679-d1a6-42b1-88e0-d3415ee52277"
      },
      "execution_count": null,
      "outputs": [
        {
          "output_type": "stream",
          "name": "stdout",
          "text": [
            "Overwriting file\n"
          ]
        }
      ]
    },
    {
      "cell_type": "code",
      "source": [
        "# Read a dictionary from a file\n",
        "d = {}\n",
        "with open(\"file\") as f:\n",
        "    for line in f:\n",
        "       (key, val) = line.split()\n",
        "       d[int(val)] = key\n",
        "print(d)\n",
        "sort = sorted(d)\n",
        "print(sort)"
      ],
      "metadata": {
        "colab": {
          "base_uri": "https://localhost:8080/"
        },
        "id": "ji_7yoMovG3B",
        "outputId": "09cafb45-25e4-4e11-80fb-530d524175a0"
      },
      "execution_count": null,
      "outputs": [
        {
          "output_type": "stream",
          "name": "stdout",
          "text": [
            "{91: 'kevin,', 94: 'ayush,', 97: 'ankita,', 89: 'amy,', 79: 'ned,', 82: 'timmy,'}\n",
            "[79, 82, 89, 91, 94, 97]\n"
          ]
        }
      ]
    }
  ]
}