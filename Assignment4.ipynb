{
  "nbformat": 4,
  "nbformat_minor": 0,
  "metadata": {
    "colab": {
      "provenance": [],
      "authorship_tag": "ABX9TyMFcnJfj8YpNCoZeHdT71D9",
      "include_colab_link": true
    },
    "kernelspec": {
      "name": "python3",
      "display_name": "Python 3"
    },
    "language_info": {
      "name": "python"
    }
  },
  "cells": [
    {
      "cell_type": "markdown",
      "metadata": {
        "id": "view-in-github",
        "colab_type": "text"
      },
      "source": [
        "<a href=\"https://colab.research.google.com/github/WARP32/CSC221_ALIPP001/blob/main/Assignment4.ipynb\" target=\"_parent\"><img src=\"https://colab.research.google.com/assets/colab-badge.svg\" alt=\"Open In Colab\"/></a>"
      ]
    },
    {
      "cell_type": "code",
      "execution_count": 2,
      "metadata": {
        "colab": {
          "base_uri": "https://localhost:8080/"
        },
        "id": "ncFJsyUZewyz",
        "outputId": "8b4bce34-48eb-498a-dfde-d8ef268417db"
      },
      "outputs": [
        {
          "output_type": "stream",
          "name": "stdout",
          "text": [
            "['Eoin', 'Ivan', 'Yahya']\n",
            "Hi, Eoin\n",
            "Hello, Ivan\n",
            "How do you do, Yahya\n",
            "If there were a Boat I could go fast and be floating in water.\n",
            "If I was going to go to the moon I could do some sick tricks with a Scooter.\n",
            "If I was going to go to the moon I may perhaps need a Spaceship.\n"
          ]
        }
      ],
      "source": [
        "name = ['Eoin', 'Ivan', 'Yahya']\n",
        "print(name)\n",
        "message1 = f\"Hi, {name[0]}\"\n",
        "message2 = f\"Hello, {name[1]}\"\n",
        "message3 = f\"How do you do, {name[2]}\"\n",
        "print(message1)\n",
        "print(message2)\n",
        "print(message3)\n",
        "transport = ['Boat', 'Scooter', 'Spaceship']\n",
        "message4 = f\"If there were a {transport[0]} I could go fast and be floating in water.\"\n",
        "message5 = f\"If I was going to go to the moon I could do some sick tricks with a {transport[1]}.\"\n",
        "message6 = f\"If I was going to go to the moon I may perhaps need a {transport[2]}.\"\n",
        "print(message4)\n",
        "print(message5)\n",
        "print(message6)"
      ]
    },
    {
      "cell_type": "code",
      "source": [
        "people = ['Thomas Jefferson', 'Thomas Midgley Jr.', 'Vincent Van Gogh']\n",
        "message1 = f\"Hello {people[0]}, would you like to have dinner?\\n\"\n",
        "message2 = f\"Hello {people[1]}, would you like to have dinner?\\n\"\n",
        "message3 = f\"Hello {people[2]}, would you like to have dinner?\\n\"\n",
        "print(message1)\n",
        "print(message2)\n",
        "print(message3)\n",
        "print(f\"Turns out {people[0]} can't make it to dinner.\\n\")\n",
        "people.remove('Thomas Jefferson')\n",
        "people.insert(0, \"Hank Green\")\n",
        "people.insert(2, \"John Green\")\n",
        "people.append(\"Daniel Rosenfeld\")\n",
        "message4 = f\"Hello {people[0]}, would you like to have dinner?\\n\"\n",
        "message5 = f\"Hello {people[1]}, would you like to have dinner?\\n\"\n",
        "message6 = f\"Hello {people[2]}, would you like to have dinner?\\n\"\n",
        "message7 = f\"Hello {people[3]}, would you like to have dinner?\\n\"\n",
        "message8 = f\"Hello {people[4]}, would you like to have dinner?\\n\"\n",
        "print(message4)\n",
        "print(message5)\n",
        "print(message6)\n",
        "print(message7)\n",
        "print(message8)\n",
        "print(\"My dog ate my table so now only two people can come.\\n\")\n",
        "message9 = f\"Sorry {people[0]}, You're no longer invited.\\n\"\n",
        "print(message9)\n",
        "people.pop(0)\n",
        "message10 = f\"Sorry {people[2]}, You're no longer invited.\\n\"\n",
        "print(message10)\n",
        "people.pop(2)\n",
        "message11 = f\"Sorry {people[2]}, You're no longer invited.\\n\"\n",
        "print(message11)\n",
        "people.pop(2)\n",
        "message12 = f\"We all make mistakes {people[0]}, but that's okay because we're still on for dinner.\\n\"\n",
        "message13 = f\"{people[1]}, sorry your brother couldn't come but you're just a lot cooler\\n\"\n",
        "print(message12)\n",
        "print(message13)\n",
        "del people[0]\n",
        "del people[0]\n",
        "print(people)"
      ],
      "metadata": {
        "colab": {
          "base_uri": "https://localhost:8080/"
        },
        "id": "PKTLOurLhQFr",
        "outputId": "6540a90e-a9d9-4146-f979-56deb665f764"
      },
      "execution_count": 7,
      "outputs": [
        {
          "output_type": "stream",
          "name": "stdout",
          "text": [
            "Hello Thomas Jefferson, would you like to have dinner?\n",
            "\n",
            "Hello Thomas Midgley Jr., would you like to have dinner?\n",
            "\n",
            "Hello Vincent Van Gogh, would you like to have dinner?\n",
            "\n",
            "Turns out Thomas Jefferson can't make it to dinner.\n",
            "\n",
            "Hello Hank Green, would you like to have dinner?\n",
            "\n",
            "Hello Thomas Midgley Jr., would you like to have dinner?\n",
            "\n",
            "Hello John Green, would you like to have dinner?\n",
            "\n",
            "Hello Vincent Van Gogh, would you like to have dinner?\n",
            "\n",
            "Hello Daniel Rosenfeld, would you like to have dinner?\n",
            "\n",
            "My dog ate my table so now only two people can come.\n",
            "\n",
            "Sorry Hank Green, You're no longer invited.\n",
            "\n",
            "Sorry Vincent Van Gogh, You're no longer invited.\n",
            "\n",
            "Sorry Daniel Rosenfeld, You're no longer invited.\n",
            "\n",
            "We all make mistakes Thomas Midgley Jr., but that's okay because we're still on for dinner.\n",
            "\n",
            "John Green, sorry your brother couldn't come but you're just a lot cooler\n",
            "\n",
            "[]\n"
          ]
        }
      ]
    },
    {
      "cell_type": "code",
      "source": [
        "place = [\"Bejing\", \"Amsterdam\", \"Hiroshima\", \"Warsaw\", \"General Bernardo O'Higgins Base\"]\n",
        "print(place)\n",
        "print(sorted(place))\n",
        "print(place)\n",
        "print(sorted(place, reverse = True))\n",
        "print(place)\n",
        "place.reverse()\n",
        "print(place)\n",
        "place.reverse()\n",
        "print(place)\n",
        "place.sort()\n",
        "print(place)\n",
        "place.sort(reverse = True)\n",
        "print(place)\n",
        "len(place)"
      ],
      "metadata": {
        "colab": {
          "base_uri": "https://localhost:8080/"
        },
        "id": "i1Rmx3HVnOrc",
        "outputId": "a1e6b159-7a41-4796-da55-92dccb2cdbb1"
      },
      "execution_count": 9,
      "outputs": [
        {
          "output_type": "stream",
          "name": "stdout",
          "text": [
            "['Bejing', 'Amsterdam', 'Hiroshima', 'Warsaw', \"General Bernardo O'Higgins Base\"]\n",
            "['Amsterdam', 'Bejing', \"General Bernardo O'Higgins Base\", 'Hiroshima', 'Warsaw']\n",
            "['Bejing', 'Amsterdam', 'Hiroshima', 'Warsaw', \"General Bernardo O'Higgins Base\"]\n",
            "['Warsaw', 'Hiroshima', \"General Bernardo O'Higgins Base\", 'Bejing', 'Amsterdam']\n",
            "['Bejing', 'Amsterdam', 'Hiroshima', 'Warsaw', \"General Bernardo O'Higgins Base\"]\n",
            "[\"General Bernardo O'Higgins Base\", 'Warsaw', 'Hiroshima', 'Amsterdam', 'Bejing']\n",
            "['Bejing', 'Amsterdam', 'Hiroshima', 'Warsaw', \"General Bernardo O'Higgins Base\"]\n",
            "['Amsterdam', 'Bejing', \"General Bernardo O'Higgins Base\", 'Hiroshima', 'Warsaw']\n",
            "['Warsaw', 'Hiroshima', \"General Bernardo O'Higgins Base\", 'Bejing', 'Amsterdam']\n"
          ]
        },
        {
          "output_type": "execute_result",
          "data": {
            "text/plain": [
              "5"
            ]
          },
          "metadata": {},
          "execution_count": 9
        }
      ]
    },
    {
      "cell_type": "code",
      "source": [],
      "metadata": {
        "id": "ElBHncWAnwUm"
      },
      "execution_count": null,
      "outputs": []
    }
  ]
}