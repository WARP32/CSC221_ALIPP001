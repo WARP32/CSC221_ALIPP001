{
  "nbformat": 4,
  "nbformat_minor": 0,
  "metadata": {
    "colab": {
      "provenance": [],
      "authorship_tag": "ABX9TyN/lq1et9GJ4RZ7o/CiB5fl",
      "include_colab_link": true
    },
    "kernelspec": {
      "name": "python3",
      "display_name": "Python 3"
    },
    "language_info": {
      "name": "python"
    }
  },
  "cells": [
    {
      "cell_type": "markdown",
      "metadata": {
        "id": "view-in-github",
        "colab_type": "text"
      },
      "source": [
        "<a href=\"https://colab.research.google.com/github/WARP32/CSC221_ALIPP001/blob/main/Assignment5.ipynb\" target=\"_parent\"><img src=\"https://colab.research.google.com/assets/colab-badge.svg\" alt=\"Open In Colab\"/></a>"
      ]
    },
    {
      "cell_type": "code",
      "execution_count": 1,
      "metadata": {
        "colab": {
          "base_uri": "https://localhost:8080/"
        },
        "id": "VvOvQU6Bq7Ws",
        "outputId": "fd3df4b9-dfb6-4c1f-8cc9-2e93ee90c1f9"
      },
      "outputs": [
        {
          "output_type": "stream",
          "name": "stdout",
          "text": [
            "I like Buffalo pizza.\n",
            "I like Cheese pizza.\n",
            "I like Sausage pizza.\n",
            "Pizza is alright.\n",
            "\n",
            "The Platypus is a funky animal.\n",
            "The Beluga Whale is a funky animal.\n",
            "The Tenrecs is a funky animal.\n",
            "All of these animals are mammals\n",
            "\n"
          ]
        }
      ],
      "source": [
        "pizzas = [\"Buffalo\", \"Cheese\", \"Sausage\"]\n",
        "for pizza in pizzas:\n",
        "  print(f\"I like {pizza} pizza.\")\n",
        "print(\"Pizza is alright.\\n\")\n",
        "animals = [\"Platypus\", \"Beluga Whale\", \"Tenrec\"]\n",
        "for animal in animals:\n",
        "  print(f\"The {animal} is a funky animal.\")\n",
        "print(\"All of these animals are mammals\\n\")"
      ]
    },
    {
      "cell_type": "code",
      "source": [
        "numbers = list(range(1, 21))\n",
        "print(numbers)\n",
        "# Doing a million numbers would make this unreadable\n",
        "digits = list(range(0, 1000001))\n",
        "print(min(digits))\n",
        "print(max(digits))\n",
        "print(sum(digits))\n",
        "nums = []\n",
        "nums = [x for x in range(21) if x % 2 != 0]\n",
        "print(nums)\n",
        "nums2 = [x for x in range(3,31) if x % 3 == 0]\n",
        "print(nums2)\n",
        "nums3 = [x**3 for x in range(11)]\n",
        "print(nums3)"
      ],
      "metadata": {
        "colab": {
          "base_uri": "https://localhost:8080/"
        },
        "id": "3ObjWcOVrxww",
        "outputId": "db8895df-bc94-46d6-8e79-976607dce7f4"
      },
      "execution_count": 2,
      "outputs": [
        {
          "output_type": "stream",
          "name": "stdout",
          "text": [
            "[1, 2, 3, 4, 5, 6, 7, 8, 9, 10, 11, 12, 13, 14, 15, 16, 17, 18, 19, 20]\n",
            "0\n",
            "1000000\n",
            "500000500000\n",
            "[1, 3, 5, 7, 9, 11, 13, 15, 17, 19]\n",
            "[3, 6, 9, 12, 15, 18, 21, 24, 27, 30]\n",
            "[0, 1, 8, 27, 64, 125, 216, 343, 512, 729, 1000]\n"
          ]
        }
      ]
    },
    {
      "cell_type": "code",
      "source": [
        "songs = [\"SLUMP\", \"Running in the Wind\", \"Coalescence\", \"The Rain Formerly Known as Purple\", \"Save Me\"]\n",
        "print(f\"The first three items in the list are: {songs[0:3]}.\")\n",
        "print(f\"The middle three items in the list are: {songs[1:4]}.\")\n",
        "print(f\"The last three items in the list are: {songs[2:5]}.\")\n",
        "print(\"\\n\")\n",
        "pizzas = [\"Buffalo\", \"Cheese\", \"Sausage\"]\n",
        "friend_pizzas = pizzas[:]\n",
        "pizzas.append(\"BBQ Chicken\")\n",
        "friend_pizzas.append(\"Pepperoni\")\n",
        "print(pizzas)\n",
        "print(friend_pizzas)\n",
        "print(\"\\n\")\n",
        "for pizza in pizzas:\n",
        "  print(f\"My favorite pizzas are {pizza} pizza.\")\n",
        "print(\"\\n\")\n",
        "for friend_pizza in friend_pizzas:\n",
        "  print(f\"My friend's favorite pizzas are {friend_pizza} pizza.\")"
      ],
      "metadata": {
        "colab": {
          "base_uri": "https://localhost:8080/"
        },
        "id": "wnS6IlyPtUnH",
        "outputId": "4b0a1b7f-e68b-4f95-f16c-295f8bcf654a"
      },
      "execution_count": 3,
      "outputs": [
        {
          "output_type": "stream",
          "name": "stdout",
          "text": [
            "The first three items in the list are: ['SLUMP', 'Running in the Wind', 'Coalescence'].\n",
            "The middle three items in the list are: ['Running in the Wind', 'Coalescence', 'The Rain Formerly Known as Purple'].\n",
            "The last three items in the list are: ['Coalescence', 'The Rain Formerly Known as Purple', 'Save Me'].\n",
            "\n",
            "\n",
            "['Buffalo', 'Cheese', 'Sausage', 'BBQ Chicken']\n",
            "['Buffalo', 'Cheese', 'Sausage', 'Pepperoni']\n",
            "\n",
            "\n",
            "My favorite pizzas are Buffalo pizza.\n",
            "My favorite pizzas are Cheese pizza.\n",
            "My favorite pizzas are Sausage pizza.\n",
            "My favorite pizzas are BBQ Chicken pizza.\n",
            "\n",
            "\n",
            "My friend's favorite pizzas are Buffalo pizza.\n",
            "My friend's favorite pizzas are Cheese pizza.\n",
            "My friend's favorite pizzas are Sausage pizza.\n",
            "My friend's favorite pizzas are Pepperoni pizza.\n"
          ]
        }
      ]
    },
    {
      "cell_type": "code",
      "source": [
        "buffet = (\"Eggs\", \"Bacon\", \"Apples\", \"Sausage\", \"Salad\")\n",
        "for food in buffet:\n",
        "  print(f\"In the buffet they have {food}.\")\n",
        "print(\"\\n\")\n",
        "buffet = (\"Eggs\", \"Bacon\", \"Toast\", \"Sausage\", \"Cucumber\")\n",
        "print(\"The menu has changed.\")\n",
        "for food in buffet:\n",
        "  print(f\"In the buffet they now have {food}.\")"
      ],
      "metadata": {
        "colab": {
          "base_uri": "https://localhost:8080/"
        },
        "id": "S-ICRwXKu0td",
        "outputId": "15f28d8e-82f5-4890-efc4-96d3632a57fe"
      },
      "execution_count": 5,
      "outputs": [
        {
          "output_type": "stream",
          "name": "stdout",
          "text": [
            "In the buffet they have Eggs.\n",
            "In the buffet they have Bacon.\n",
            "In the buffet they have Apples.\n",
            "In the buffet they have Sausage.\n",
            "In the buffet they have Salad.\n",
            "\n",
            "\n",
            "The menu has changed.\n",
            "In the buffet they now have Eggs.\n",
            "In the buffet they now have Bacon.\n",
            "In the buffet they now have Toast.\n",
            "In the buffet they now have Sausage.\n",
            "In the buffet they now have Cucumber.\n"
          ]
        }
      ]
    },
    {
      "cell_type": "code",
      "source": [
        "def factorial(n):\n",
        "  num_list = [i for i in range(1, n + 1)]\n",
        "  product = 1\n",
        "  for x in num_list:\n",
        "    product *= x\n",
        "  return product\n",
        "print(factorial(5))\n",
        "print(factorial(10))\n",
        "print(factorial(20))\n",
        "print(factorial(50))"
      ],
      "metadata": {
        "id": "_b045-4VvdCP",
        "outputId": "dc409c04-6e1f-42c0-b1c0-e6118ee2732d",
        "colab": {
          "base_uri": "https://localhost:8080/"
        }
      },
      "execution_count": 6,
      "outputs": [
        {
          "output_type": "stream",
          "name": "stdout",
          "text": [
            "120\n",
            "3628800\n",
            "2432902008176640000\n",
            "30414093201713378043612608166064768844377641568960512000000000000\n"
          ]
        }
      ]
    }
  ]
}