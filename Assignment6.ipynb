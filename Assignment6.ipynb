{
  "nbformat": 4,
  "nbformat_minor": 0,
  "metadata": {
    "colab": {
      "provenance": [],
      "authorship_tag": "ABX9TyPZ6x8K5HLfVJexeLL9hs+8",
      "include_colab_link": true
    },
    "kernelspec": {
      "name": "python3",
      "display_name": "Python 3"
    },
    "language_info": {
      "name": "python"
    }
  },
  "cells": [
    {
      "cell_type": "markdown",
      "metadata": {
        "id": "view-in-github",
        "colab_type": "text"
      },
      "source": [
        "<a href=\"https://colab.research.google.com/github/WARP32/CSC221_ALIPP001/blob/main/Assignment6.ipynb\" target=\"_parent\"><img src=\"https://colab.research.google.com/assets/colab-badge.svg\" alt=\"Open In Colab\"/></a>"
      ]
    },
    {
      "cell_type": "code",
      "execution_count": 2,
      "metadata": {
        "colab": {
          "base_uri": "https://localhost:8080/"
        },
        "id": "WkZ-hqzX0TSp",
        "outputId": "767cafa5-e957-49ca-848e-30f31997c93b"
      },
      "outputs": [
        {
          "output_type": "stream",
          "name": "stdout",
          "text": [
            "Is car == 'porche'? I predict True.\n",
            "True\n",
            "\n",
            "Is car == 'nissan'? I predict False.\n",
            "False\n"
          ]
        }
      ],
      "source": [
        "car = 'porche'\n",
        "\n",
        "print(\"Is car == 'porche'? I predict True.\")\n",
        "print(car =='porche')\n",
        "print(\"\\nIs car == 'nissan'? I predict False.\")\n",
        "print(car == 'nissan')"
      ]
    },
    {
      "cell_type": "code",
      "source": [
        "str1 = \"Palworld\"\n",
        "str2 = \"Valheim\"\n",
        "\n",
        "print(str1 == str2)\n",
        "print(str1 != str2)\n",
        "print(str1.lower() == \"palworld\")\n",
        "print(\"Tests with strings\\n\")\n",
        "\n",
        "num1 = 654\n",
        "num2 = 987\n",
        "\n",
        "print(num1 > num2)\n",
        "print(num1 < num2)\n",
        "print(num1 >= num2)\n",
        "print(num1 <= num2)\n",
        "print(num1 == num2)\n",
        "print(num1 != num2)\n",
        "print(\"Tests with numbers\\n\")\n",
        "\n",
        "value1 = True\n",
        "value2 = False\n",
        "\n",
        "print(value1 and value2)\n",
        "print(value1 or value2)\n",
        "print(\"Tests with keyword or / and\\n\")\n",
        "\n",
        "list1 = [1, 2, 3, 4, \"cat\", \"squirrel\"]\n",
        "num3 = 3\n",
        "str3 = \"squirrel\"\n",
        "num4 = 999\n",
        "str4 = \"dog\"\n",
        "\n",
        "print(num3 in list1)\n",
        "print(str4 in list1)\n",
        "print(\"Test whether something is in a list\\n\")\n",
        "print(num4 not in list1)\n",
        "print(str3 not in list1)\n",
        "print(\"Tests whether something is not in a list\\n\")"
      ],
      "metadata": {
        "colab": {
          "base_uri": "https://localhost:8080/"
        },
        "id": "MjHbsjUL2BCI",
        "outputId": "c6f55bf6-0625-440d-8386-8d9f3add8eb6"
      },
      "execution_count": 4,
      "outputs": [
        {
          "output_type": "stream",
          "name": "stdout",
          "text": [
            "False\n",
            "True\n",
            "True\n",
            "Tests with strings\n",
            "\n",
            "False\n",
            "True\n",
            "False\n",
            "True\n",
            "False\n",
            "True\n",
            "Tests with numbers\n",
            "\n",
            "False\n",
            "True\n",
            "Tests with keyword or / and\n",
            "\n",
            "True\n",
            "False\n",
            "Test whether something is in a list\n",
            "\n",
            "True\n",
            "False\n",
            "Tests whether something is not in a list\n",
            "\n"
          ]
        }
      ]
    },
    {
      "cell_type": "code",
      "source": [
        "alien_color = 'green'\n",
        "\n",
        "if (alien_color == 'green'):\n",
        "  print(\"You get 5 points\")\n",
        "\n",
        "alien_color = 'red'\n",
        "\n",
        "if (alien_color == 'green'):\n",
        "  print(\"You get 5 points\")\n",
        "\n",
        "age = input()\n",
        "age = int(age)\n",
        "\n",
        "if age < 2:\n",
        "    print(\"The person is a baby.\")\n",
        "elif age < 4:\n",
        "    print(\"The person is a toddler.\")\n",
        "elif age < 13:\n",
        "    print(\"The person is a kid.\")\n",
        "elif age < 20:\n",
        "    print(\"The person is a teenager.\")\n",
        "elif age < 65:\n",
        "    print(\"The person is an adult.\")\n",
        "else:\n",
        "    print(\"The person is an elder.\")"
      ],
      "metadata": {
        "colab": {
          "base_uri": "https://localhost:8080/"
        },
        "id": "uRGau13Q2xy2",
        "outputId": "39c23730-049f-4042-876b-b13858100a02"
      },
      "execution_count": 5,
      "outputs": [
        {
          "output_type": "stream",
          "name": "stdout",
          "text": [
            "You get 5 points\n",
            "123\n",
            "The person is an elder.\n"
          ]
        }
      ]
    },
    {
      "cell_type": "code",
      "source": [
        "while True:\n",
        "  try:\n",
        "    hunger = int(input(\"How hungry are you from 0 to 100\\n\"))\n",
        "#    hunger = 10\n",
        "#    hunger = 30\n",
        "#    hunger = 50\n",
        "#    hunger = 70\n",
        "#    hunger = 90\n",
        "#    hunger = 150\n",
        "    break\n",
        "  except:\n",
        "    print(\"Please enter a number!\")\n",
        "\n",
        "\n",
        "if (hunger <= 20):\n",
        "  print(\"You'll be fine\")\n",
        "elif (hunger <= 40):\n",
        "  print(\"If you really want a snack you can have a small one.\")\n",
        "elif (hunger <= 60):\n",
        "  print(\"You should have something to eat soon, or now if you don't have time later.\")\n",
        "elif (hunger <= 80):\n",
        "  print(\"You should eat something as soon as you can.\")\n",
        "elif (hunger <= 100):\n",
        "  print(\"You probably should have eaten something so you're not starving yourself\")\n",
        "else:\n",
        "  print(\"You may already have starved...\")"
      ],
      "metadata": {
        "colab": {
          "base_uri": "https://localhost:8080/"
        },
        "id": "94Fu0A4i26Cl",
        "outputId": "75c1473b-382b-4d20-c861-f60d1477f58c"
      },
      "execution_count": 20,
      "outputs": [
        {
          "output_type": "stream",
          "name": "stdout",
          "text": [
            "How hungry are you from 0 to 100\n",
            "50\n",
            "You should have something to eat soon, or now if you don't have time later.\n"
          ]
        }
      ]
    }
  ]
}